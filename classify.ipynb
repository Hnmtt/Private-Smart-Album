{
 "cells": [
  {
   "cell_type": "code",
   "execution_count": null,
   "id": "883a2491",
   "metadata": {},
   "outputs": [],
   "source": [
    "from __future__ import print_function, division\n",
    "\n",
    "import torch\n",
    "import torch.nn as nn\n",
    "import torch.optim as optim\n",
    "from torch.optim import lr_scheduler\n",
    "import torch.backends.cudnn as cudnn\n",
    "import numpy as np\n",
    "import torchvision\n",
    "from torchvision import datasets, models, transforms\n",
    "import matplotlib.pyplot as plt\n",
    "import time\n",
    "import os\n",
    "import copy\n",
    "\n",
    "cudnn.benchmark = True\n",
    "plt.ion()   # interactive mode\n",
    "\n",
    "import shutil\n",
    "import glob\n",
    "from PIL import Image"
   ]
  },
  {
   "cell_type": "code",
   "execution_count": null,
   "id": "a9cc3921",
   "metadata": {},
   "outputs": [],
   "source": [
    "transform = transforms.Compose([transforms.Resize(256),\n",
    "                                transforms.CenterCrop(224),\n",
    "                                transforms.ToTensor(),\n",
    "                                transforms.Lambda(lambda x: x.repeat(1,1,1)),\n",
    "                                \n",
    "                                            ]) "
   ]
  },
  {
   "cell_type": "code",
   "execution_count": null,
   "id": "6af36e98",
   "metadata": {},
   "outputs": [],
   "source": [
    "model1 = torch.load('./model.pkl') \n"
   ]
  },
  {
   "cell_type": "code",
   "execution_count": null,
   "id": "df8f5714",
   "metadata": {},
   "outputs": [],
   "source": [
    "torch.no_grad()\n",
    "imgfile = glob.glob(r\"./dataset/raw/*.jpg\")\n",
    "print(len(imgfile), imgfile)"
   ]
  },
  {
   "cell_type": "code",
   "execution_count": null,
   "id": "837091fa",
   "metadata": {},
   "outputs": [],
   "source": [
    "for i in imgfile:\n",
    "        imgfile1 = i.replace(\"\\\\\", \"/\")#统一路径\n",
    "        img = Image.open(imgfile1)\n",
    "        \n",
    "        #tran = []\n",
    "        #tran.append(torchvision.transforms.ToTensor())\n",
    "        #tran.append(torchvision.transforms.Lambda(lambda x:x.repeat(1, 1, 1,)))\n",
    "        #img = img.reshape((*img.shape, -1))\n",
    "        img = transform(img)\n",
    "        new_dir='./dataset/new'\n",
    " \n",
    "        img = img.unsqueeze(0)\n",
    "        outputs = model1(img)  # outputs，out1修改为你的网络的输出\n",
    "        predicted, index  = torch.max(outputs, 1)\n",
    "        degre = int(index[0])\n",
    "        list = ['animal','building','food','plant','portrait','text','transportation','view']\n",
    "        output_dir=os.path.join(new_dir,list[degre])\n",
    "        shutil.copy(imgfile1, output_dir)\n",
    "        #print(output_dir)\n",
    "        print(predicted, list[degre])\n"
   ]
  }
 ],
 "metadata": {
  "kernelspec": {
   "display_name": "Python 3 (ipykernel)",
   "language": "python",
   "name": "python3"
  },
  "language_info": {
   "codemirror_mode": {
    "name": "ipython",
    "version": 3
   },
   "file_extension": ".py",
   "mimetype": "text/x-python",
   "name": "python",
   "nbconvert_exporter": "python",
   "pygments_lexer": "ipython3",
   "version": "3.9.12"
  }
 },
 "nbformat": 4,
 "nbformat_minor": 5
}
